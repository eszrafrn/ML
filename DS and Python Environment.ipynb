{
 "cells": [
  {
   "cell_type": "markdown",
   "id": "a1617007",
   "metadata": {},
   "source": [
    "# Assignment W11 - Data Science and Python venv\n",
    "**10024134 | Eszra Forenita Sigalingging**"
   ]
  },
  {
   "cell_type": "markdown",
   "id": "d02f12f2",
   "metadata": {},
   "source": [
    "## *Introduction*\n",
    "*Data Science* merupakan salah satu bidang ilmu yang menggabungkan statistika, pemograman dan pengetahuan domain untuk mengekstrak wawasan bernilai dari data yang bertujuan untuk mengubah data menjadi sebuah nilai yang dapat ditindaklanjuti serta dapat digunakan untuk membuat keputusan yang baik. \n",
    "\n",
    "***Data - Data Science - Data Scientist***\n",
    "\n",
    "Data merupakan kumpulan dari fakta mentah (angka, teks, gambar) yang belum diproses. Sedangkan *Data Sains* merupakan bidang ilmu yang mengolah data menjadi sebuah pengetahuan yang dapat digunakan untuk membuat keputusan dan sebagainya. Profesional yang melakukan teknik data sains ini disebut sebagai *data scientist*. Alur pengolahan data untuk dapat ditindaklanjuti biasanya dimulai dari mencari data, menjelajahi data, membersihkan dan menyiapkan data untuk dianalisis, melakukan analisis dan pembuatan model serta pengajuan, lalu membuat kesimpulan dari hasil yang diperoleh.\n",
    "\n",
    "Data sains mencakup 4 aspek dasar ilmu data, yaitu:\n",
    "1. **Matematika**, membahas konsep matematika dasar seperti fungsi, relasi, asumsi, kesimpulan, dan abstraksi untuk memahami banyak proses manipulasi data.\n",
    "2. **Teknologi**, meningkatkan kemampuan pengetahuan Python seperti fungsi manipulasi tabel yang lebih kompleks, latihan *data cleaning* dan manipulasi data.\n",
    "3. **Visualisasi**, mempelajari jenis grafik baru sesuai tipe data dan tujuan komunikasi serta prinsip-prinsip dasar membuat dan memilih visualisasi.\n",
    "4. **Komunikasi**, mempelajari bagaimana cara menulis komentar dalam kode, dokumentasi untuk kode, motivasi dalam buku catatan komputasi dan laporan teknis tentang hasil analisis."
   ]
  },
  {
   "cell_type": "markdown",
   "id": "98ccaf1e",
   "metadata": {},
   "source": [
    "*List Link on PyPI for installing Jupyter Notebook, Matplotlib, and Numpy*\n",
    "\n",
    "- **Jupyter Notebook** : https://pypi.org/project/jupyter/\n",
    "- **Matplotlib** : https://pypi.org/project/matplotlib/\n",
    "- **NumPy** : https://pypi.org/project/numpy/"
   ]
  },
  {
   "cell_type": "markdown",
   "id": "8004d9f2",
   "metadata": {},
   "source": [
    "## Virtual Environment\n",
    "\n",
    "*Virtual Environment* adalah ruang kerja terisolasi untuk proyek Python yang bertujuan menghindari konflik versi yang berbeda antar beberapa proyek berbeda, dan juga bertujuan untuk menjaga kebersihan sistem.\n",
    "\n",
    "Langkah membuat virtual environment\n",
    "1. Mengunduh virtual environment\n",
    "\n",
    "    python -m pip install virtualenv\n",
    "\n",
    "2. Membuat virtual environment\n",
    "\n",
    "    python -m virtualenv venv\n",
    "\n",
    "3. Mengaktifkan environment\n",
    "\n",
    "    venv\\Scripts\\activate\n"
   ]
  }
 ],
 "metadata": {
  "language_info": {
   "name": "python"
  }
 },
 "nbformat": 4,
 "nbformat_minor": 5
}
